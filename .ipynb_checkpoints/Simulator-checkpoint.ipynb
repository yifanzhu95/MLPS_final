{
 "cells": [
  {
   "cell_type": "code",
   "execution_count": 5,
   "metadata": {},
   "outputs": [],
   "source": [
    "import matplotlib.pyplot as plt\n",
    "import numpy as np\n",
    "import scipy.io.wavfile\n",
    "import math\n",
    "class soundSimulator:\n",
    "    def __init__(self,total_time = 5):\n",
    "        \"\"\"the intensity is proportional to amplitude squared\"\"\"\n",
    "        \"\"\"the intensity is 1/distance**2\"\"\"\n",
    "        \"\"\"the amplitude is then inverse proportional to distance\"\"\"\n",
    "        self.time = 0 #time will be discretized by the sampling rate..\n",
    "        self.total_time = 5\n",
    "        self.x_bound = [0,12]\n",
    "        self.y_bound = [0,8]\n",
    "        self.sample_rate = 22050\n",
    "        fs,self.s1 = scipy.io.wavfile.read( 'data/music/'+str(1)+'.wav')\n",
    "        fs,self.s2 = scipy.io.wavfile.read( 'data/speech/'+str(1)+'.wav')\n",
    "        self.mic1_position = [0,0]\n",
    "        self.mic2_position = [5,0]\n",
    "        self.agent1_trajectory=[[8.0,5.0]] #revolving around [6,5]\n",
    "        self.agent2_trajectory=[[1.0,4.0]] #move between [1.0,4.0] and [11.0,4.0]\n",
    "        \n",
    "    def agentMovement(self,t):\n",
    "        agent1 = [6.0+2.0*math.cos(t),6.0+2.0*math.sin(t)]\n",
    "        agent2 = [6.0-5.0*math.cos(t),4.0]\n",
    "        return agent1,agent2\n",
    "    \n",
    "    def simulate(self,total_time,echo = False):\n",
    "        \"\"\"At each simulation frame sampled at 22050, calculate when the sound from our source file will reach\n",
    "        The target mic. Because it will not reach the mic at the exact sampling frame. some interpolation between \n",
    "        2 source sound point will be needed.\"\"\"\n",
    "        \n",
    "        return\n",
    "    \n",
    "    def simulatedSound(self,t_start,t_end):\n",
    "        \"\"\"Return the simulated sound from mic1 and mic2\"\"\"\n",
    "        return\n",
    "    \n",
    "    def simulatedTrajectory(self,s_start,t_end):\n",
    "        \"\"\"return teh true trajectories of the 2 agents\"\"\"\n",
    "        return\n",
    "        "
   ]
  },
  {
   "cell_type": "code",
   "execution_count": 6,
   "metadata": {},
   "outputs": [],
   "source": [
    "##expected use for the above classes:\n",
    "##Assume the position detection happen at 20Hz\n",
    "simulator = soundSimulator()\n",
    "\n",
    "dt = 0.05\n",
    "total_simulation_time = 20\n",
    "current_time = 0\n",
    "simulator.simulate(20) #simulator will simulate for 20 secs.\n",
    "while (current_time <= total_simulation_time):\n",
    "    simulator.simulatedTrajectory(current_time,current_time+dt)\n",
    "    \n",
    "    \n",
    "\n"
   ]
  },
  {
   "cell_type": "code",
   "execution_count": null,
   "metadata": {},
   "outputs": [],
   "source": []
  }
 ],
 "metadata": {
  "kernelspec": {
   "display_name": "Python 3",
   "language": "python",
   "name": "python3"
  },
  "language_info": {
   "codemirror_mode": {
    "name": "ipython",
    "version": 3
   },
   "file_extension": ".py",
   "mimetype": "text/x-python",
   "name": "python",
   "nbconvert_exporter": "python",
   "pygments_lexer": "ipython3",
   "version": "3.6.5"
  }
 },
 "nbformat": 4,
 "nbformat_minor": 2
}
