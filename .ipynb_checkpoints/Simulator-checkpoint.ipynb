{
 "cells": [
  {
   "cell_type": "code",
   "execution_count": 7,
   "metadata": {},
   "outputs": [],
   "source": [
    "import matplotlib.pyplot as plt\n",
    "import numpy as np\n",
    "import scipy.io.wavfile\n",
    "import math\n",
    "class soundSimulator:\n",
    "    def __init__(self,total_time = 5):\n",
    "        \"\"\"the intensity is proportional to amplitude squared\"\"\"\n",
    "        \"\"\"the intensity is 1/distance**2\"\"\"\n",
    "        \"\"\"the amplitude is then inverse proportional to distance\"\"\"\n",
    "        self.time = 0 #time will be discretized by the sampling rate..\n",
    "        self.total_time = 5\n",
    "        self.x_bound = [0,12]\n",
    "        self.y_bound = [0,8]\n",
    "        self.sample_rate = 22050\n",
    "        self.dt = 1.0/22050\n",
    "        print(\"dt\",self.dt)\n",
    "        fs,self.s1 = scipy.io.wavfile.read( 'data/music/'+str(1)+'.wav')#assume magnitude at 1m\n",
    "        self.s1_length = len(self.s1)\n",
    "        fs,self.s2 = scipy.io.wavfile.read( 'data/speech/'+str(1)+'.wav')\n",
    "        self.s2_length = len(self.s2)\n",
    "        self.mic1_position = [0,0]\n",
    "        self.mic2_position = [5,0]\n",
    "        self.agent1_trajectory=[]\n",
    "        self.agent2_trajectory=[]\n",
    "        print(\"s1 length:\",len(self.s1)/self.sample_rate)\n",
    "    def agentMovement(self,t):\n",
    "        agent1 = [6.0+2.0*math.cos(t),6.0+2.0*math.sin(t)]\n",
    "        agent2 = [6.0-5.0*math.cos(t),4.0]\n",
    "        return agent1,agent2\n",
    "        \n",
    "    def simulate(self,total_time,echo = False):\n",
    "        \"\"\"At each simulation frame sampled at 22050, calculate when the sound from our source file will reach\n",
    "        The target mic. Because it will not reach the mic at the exact sampling frame. some interpolation between \n",
    "        2 source sound point will be needed.\"\"\"\n",
    "        total_output_N = math.ceiling(total_time*self.sample_rate)\n",
    "        total_input_N = total_output_N + 500 #make this a bit more then cut \n",
    "        #first calculate the times at which the input sources will arrive at the mics\n",
    "        #(non-integer multiples of self.dt)\n",
    "        raw_output = []\n",
    "        raw_output_time_stamp = []\n",
    "        for i in range(total_input_N):\n",
    "            time = self.dt*i\n",
    "            agent_1,agent_2 = self.agentMovement(time)\n",
    "            #record agent trajectory\n",
    "            self.agent1_trajectory.append(agent_1)\n",
    "            self.agent2_trajectory.append(agent_2)\n",
    "            #for mic_1\n",
    "            r_1_1 = np.linalg.norm(self._substract(agent_1,self.mic1_position))\n",
    "            r_1_2 = np.linalg.norm(self._substract(agent_2,self.mic2_position))\n",
    "        \n",
    "        return\n",
    "    \n",
    "    def simulatedSound(self,t_start,t_end):\n",
    "        \"\"\"Return the simulated sound from mic1 and mic2\"\"\"\n",
    "        return\n",
    "    \n",
    "    def simulatedTrajectory(self,s_start,t_end):\n",
    "        \"\"\"return teh true trajectories of the 2 agents\"\"\"\n",
    "        return\n",
    "    \n",
    "    def _substract(self,a,b):\n",
    "        res = []\n",
    "        for ele1,ele2 in zip(a,b):\n",
    "            res.append(ele1-ele2)\n",
    "        return res\n",
    "    \n",
    "    \n",
    "    \n",
    "class KalmanFilter:\n",
    "    def __init__(self,initial_guess = [0,0,0,0]):\n",
    "        return\n",
    "    def performIteration(self,new_observation):\n",
    "        return"
   ]
  },
  {
   "cell_type": "code",
   "execution_count": 8,
   "metadata": {},
   "outputs": [
    {
     "name": "stdout",
     "output_type": "stream",
     "text": [
      "s1 length: 15.0\n"
     ]
    }
   ],
   "source": [
    "##expected use for the above classes:\n",
    "##Assume the position detection happen at 20Hz\n",
    "simulator = soundSimulator()\n",
    "\n",
    "# dt = 0.05\n",
    "# total_simulation_time = 20\n",
    "# current_time = 0\n",
    "# simulator.simulate(20) #simulator will simulate for 20 secs\n",
    "# first_iteration_flag = True\n",
    "# estimated_trajectory = []\n",
    "# while (current_time <= total_simulation_time):\n",
    "#     sound1, sound2 = simulator.simulatedSound(current_time,current_time+dt) #sound for 0.05 sec\n",
    "#     ###perform location estimation here ###\n",
    "    \n",
    "    \n",
    "#     location1 = []\n",
    "#     location2 = []\n",
    "#     #######################################\n",
    "#     if first_iteration_flag:\n",
    "#         KalmanFilter(initial_guess = location1+location2)\n",
    "#         estimated_trajectory.append(location1 + location2)\n",
    "#     else:\n",
    "#         new_estimate = KalmanFilter.performIteration(new_observation = location1 + location2)\n",
    "#         estimated_trajectory.append(new_estimate)\n",
    "    \n"
   ]
  },
  {
   "cell_type": "code",
   "execution_count": 4,
   "metadata": {},
   "outputs": [
    {
     "data": {
      "text/plain": [
       "2.0"
      ]
     },
     "execution_count": 4,
     "metadata": {},
     "output_type": "execute_result"
    }
   ],
   "source": [
    "\n"
   ]
  },
  {
   "cell_type": "code",
   "execution_count": null,
   "metadata": {},
   "outputs": [],
   "source": []
  }
 ],
 "metadata": {
  "kernelspec": {
   "display_name": "Python 3",
   "language": "python",
   "name": "python3"
  },
  "language_info": {
   "codemirror_mode": {
    "name": "ipython",
    "version": 3
   },
   "file_extension": ".py",
   "mimetype": "text/x-python",
   "name": "python",
   "nbconvert_exporter": "python",
   "pygments_lexer": "ipython3",
   "version": "3.7.3"
  }
 },
 "nbformat": 4,
 "nbformat_minor": 2
}
