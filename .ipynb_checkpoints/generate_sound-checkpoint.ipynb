{
 "cells": [
  {
   "cell_type": "code",
   "execution_count": 30,
   "metadata": {},
   "outputs": [
    {
     "data": {
      "image/png": "[encoded data removed]",
      "text/plain": [
       "<Figure size 432x288 with 1 Axes>"
      ]
     },
     "metadata": {
      "needs_background": "light"
     },
     "output_type": "display_data"
    }
   ],
   "source": [
    "import scipy.io.wavfile\n",
    "import math\n",
    "import matplotlib.pyplot as plt\n",
    "import numpy as np\n",
    "\n",
    "####constant magnitude with sinusoidal frequencies\n",
    "\n",
    "s1 = []\n",
    "s2 = []\n",
    "rate = 22050\n",
    "dt = 1.0/22050.0\n",
    "#10secs\n",
    "#s1 from 11-15 kHz\n",
    "#s2 from 5-9 kHz\n",
    "s1_magnitude_range = 7500.0\n",
    "s1_max_period = 1.0/8000.0\n",
    "s1_min_period = 1.0/12000.0\n",
    "s2_magnitude_range = 5000.0\n",
    "s2_max_period = 1.0/200.0\n",
    "s2_min_period = 1.0/1000.0\n",
    "for i in range(22050*10+1):\n",
    "#for i in range(10):\n",
    "    t = float(i)*dt\n",
    "    #magnitude1 = s1_magnitude_range*math.sin(t) + 12500.0\n",
    "    #magnitude2 = s2_magnitude_range*math.sin(2.0*t+math.pi) + 10000.0\n",
    "    ##make the magnitude invariant for now\n",
    "    magnitude1 = 20000.0\n",
    "    magnitude2 = 15000.0\n",
    "    period = s1_min_period + (s1_max_period - s1_min_period)/2.0 + (s1_max_period - s1_min_period)*math.sin(t)/2.0\n",
    "    sound_pt1 = magnitude1*math.sin(t*(2.0*math.pi)/period)\n",
    "    s1.append(int(sound_pt1))\n",
    "    \n",
    "    period = s2_min_period + (s2_max_period - s2_min_period)/2.0 + (s2_max_period - s2_min_period)*math.sin(t)/2.0\n",
    "    sound_pt2 = magnitude2*math.sin(t*(2.0*math.pi)/period)\n",
    "    s2.append(int(sound_pt2))\n",
    "plt.plot(s1)\n",
    "scipy.io.wavfile.write('data/synthetic1.wav',rate = 22050 ,data = np.array(s1,dtype = \"int16\"))\n",
    "scipy.io.wavfile.write('data/synthetic2.wav',rate = 22050 ,data = np.array(s2,dtype = \"int16\"))"
   ]
  },
  {
   "cell_type": "code",
   "execution_count": 7,
   "metadata": {},
   "outputs": [
    {
     "data": {
      "image/png": "[encoded data removed]",
      "text/plain": [
       "<Figure size 432x288 with 1 Axes>"
      ]
     },
     "metadata": {
      "needs_background": "light"
     },
     "output_type": "display_data"
    }
   ],
   "source": [
    "import scipy.io.wavfile\n",
    "import math\n",
    "import matplotlib.pyplot as plt\n",
    "import numpy as np\n",
    "\n",
    "####bbibbi, 1s, bbi for 0.5 sec starting at 0.25 s\n",
    "\n",
    "s1 = []\n",
    "s2 = []\n",
    "rate = 22050\n",
    "dt = 1.0/22050.0\n",
    "#10secs\n",
    "#s1 from 11-15 kHz\n",
    "#s2 from 5-9 kHz\n",
    "s1_magnitude = 20000.0\n",
    "s2_magnitude = 15000.0\n",
    "s1_Hz = 3000.0\n",
    "s2_Hz = 500.0\n",
    "for i in range(22050+1):\n",
    "    t = float(i)*dt\n",
    "    if t>= 0.25 and t <=0.75:\n",
    "        period1 = 1.0/s1_Hz\n",
    "        period2 = 1.0/s2_Hz\n",
    "        sound_pt1 = s1_magnitude*math.sin((t-0.25)*(2.0*math.pi)/period1)\n",
    "        sound_pt2 = s2_magnitude*math.sin((t-0.25)*(2.0*math.pi)/period2)\n",
    "        s1.append(int(sound_pt1))\n",
    "        s2.append(int(sound_pt2))\n",
    "    else:\n",
    "        s1.append(0)\n",
    "        s2.append(0)\n",
    "plt.plot(range(len(s1)),s1)\n",
    "scipy.io.wavfile.write('data/bbibbi1.wav',rate = 22050 ,data = np.array(s1,dtype = \"int16\"))\n",
    "scipy.io.wavfile.write('data/bbibbi2.wav',rate = 22050 ,data = np.array(s2,dtype = \"int16\"))"
   ]
  },
  {
   "cell_type": "code",
   "execution_count": null,
   "metadata": {},
   "outputs": [],
   "source": []
  },
  {
   "cell_type": "code",
   "execution_count": null,
   "metadata": {},
   "outputs": [],
   "source": []
  }
 ],
 "metadata": {
  "kernelspec": {
   "display_name": "Python 3",
   "language": "python",
   "name": "python3"
  },
  "language_info": {
   "codemirror_mode": {
    "name": "ipython",
    "version": 3
   },
   "file_extension": ".py",
   "mimetype": "text/x-python",
   "name": "python",
   "nbconvert_exporter": "python",
   "pygments_lexer": "ipython3",
   "version": "3.7.3"
  }
 },
 "nbformat": 4,
 "nbformat_minor": 2
}
