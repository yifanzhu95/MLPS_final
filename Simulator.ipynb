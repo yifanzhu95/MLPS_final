{
 "cells": [
  {
   "cell_type": "code",
   "execution_count": 5,
   "metadata": {},
   "outputs": [],
   "source": [
    "import matplotlib.pyplot as plt\n",
    "import numpy as np\n",
    "import scipy.io.wavfile\n",
    "class soundSimulator:\n",
    "    def __init__(self,total_time = 5):\n",
    "        \"\"\"the intensity is proportional to amplitude squared\"\"\"\n",
    "        \"\"\"the intensity is 1/distance**2\"\"\"\n",
    "        \"\"\"the amplitude is then inverse proportional to distance\"\"\"\n",
    "        self.time = 0 #time will be discretized by the sampling rate..\n",
    "        self.total_time = 5\n",
    "        self.x_bound = [0,12]\n",
    "        self.y_bound = [0,8]\n",
    "        self.sample_rate = 22050\n",
    "        fs,self.s1 = scipy.io.wavfile.read( 'data/music/'+str(1)+'.wav')\n",
    "        fs,self.s2 = scipy.io.wavfile.read( 'data/speech/'+str(1)+'.wav') \n",
    "    def agentMovement(self,t):\n",
    "        agent1 = [1,1]\n",
    "        agent2 = [2,2]\n",
    "        return agent1,agent2\n",
    "    \n",
    "    def startSimulate(self):\n",
    "        #At each simulation frame sampled at 22050, calculate when the sound from our source file will reach\n",
    "        #The target mic. Because it will not reach the mic at the exact sampling frame. some interpolation between \n",
    "        #2 source sound point will be needed.\n",
    "        return\n",
    "        "
   ]
  },
  {
   "cell_type": "code",
   "execution_count": 6,
   "metadata": {},
   "outputs": [],
   "source": [
    "a = soundSimulator()\n",
    "##expected use:\n",
    "##Assume the position detection happen at 20Hz\n",
    "dt = 0.05\n",
    "total_simulation_time = 20\n",
    "current_time = 0\n",
    "while (current_time <= total_simulation_time):\n",
    "    \n",
    "\n"
   ]
  },
  {
   "cell_type": "code",
   "execution_count": null,
   "metadata": {},
   "outputs": [],
   "source": []
  }
 ],
 "metadata": {
  "kernelspec": {
   "display_name": "Python 3",
   "language": "python",
   "name": "python3"
  },
  "language_info": {
   "codemirror_mode": {
    "name": "ipython",
    "version": 3
   },
   "file_extension": ".py",
   "mimetype": "text/x-python",
   "name": "python",
   "nbconvert_exporter": "python",
   "pygments_lexer": "ipython3",
   "version": "3.7.3"
  }
 },
 "nbformat": 4,
 "nbformat_minor": 2
}
